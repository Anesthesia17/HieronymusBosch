{
 "cells": [
  {
   "cell_type": "markdown",
   "id": "3571482c",
   "metadata": {},
   "source": [
    "# My Jupyter Notebook on IBM Watson Studio"
   ]
  },
  {
   "cell_type": "markdown",
   "id": "cfe2f8d9",
   "metadata": {},
   "source": [
    "**Anastasiia**\n",
    "\n",
    "Project manager"
   ]
  },
  {
   "cell_type": "markdown",
   "id": "53b6c6c7",
   "metadata": {},
   "source": [
    "*I am interested in data science because it is a completely new and fascinating world to me. New knowledge helps me understand people better.*"
   ]
  },
  {
   "cell_type": "markdown",
   "id": "be6b04ec",
   "metadata": {},
   "source": [
    "### This code multiplies the numbers by each other"
   ]
  },
  {
   "cell_type": "code",
   "execution_count": 2,
   "id": "435020b0",
   "metadata": {},
   "outputs": [
    {
     "data": {
      "text/plain": [
       "25"
      ]
     },
     "execution_count": 2,
     "metadata": {},
     "output_type": "execute_result"
    }
   ],
   "source": [
    "5 * 5"
   ]
  },
  {
   "cell_type": "markdown",
   "id": "14ae0350",
   "metadata": {},
   "source": [
    "- cat -\n",
    "- dog -\n",
    "- ~~bird~~\n",
    "\n",
    "[Here](https://www.google.com)"
   ]
  },
  {
   "cell_type": "code",
   "execution_count": null,
   "id": "36cd90fe",
   "metadata": {},
   "outputs": [],
   "source": []
  }
 ],
 "metadata": {
  "kernelspec": {
   "display_name": "Python 3 (ipykernel)",
   "language": "python",
   "name": "python3"
  },
  "language_info": {
   "codemirror_mode": {
    "name": "ipython",
    "version": 3
   },
   "file_extension": ".py",
   "mimetype": "text/x-python",
   "name": "python",
   "nbconvert_exporter": "python",
   "pygments_lexer": "ipython3",
   "version": "3.9.12"
  }
 },
 "nbformat": 4,
 "nbformat_minor": 5
}
